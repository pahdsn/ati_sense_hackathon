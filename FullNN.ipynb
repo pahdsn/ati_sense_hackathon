{
  "nbformat": 4,
  "nbformat_minor": 0,
  "metadata": {
    "kernelspec": {
      "display_name": "Python 3",
      "language": "python",
      "name": "python3"
    },
    "language_info": {
      "codemirror_mode": {
        "name": "ipython",
        "version": 3
      },
      "file_extension": ".py",
      "mimetype": "text/x-python",
      "name": "python",
      "nbconvert_exporter": "python",
      "pygments_lexer": "ipython3",
      "version": "3.6.1"
    },
    "colab": {
      "name": "FullNN",
      "provenance": [],
      "collapsed_sections": []
    }
  },
  "cells": [
    {
      "cell_type": "markdown",
      "metadata": {
        "id": "OK3qKDO9JLIm"
      },
      "source": [
        "# **Okay so:**\r\n",
        "The bit after the rainbow is where the useful stuff begins: it will go through all the shapefiles, pick out random points, get the label for that point etc., and create the subsamples.\r\n",
        "Make sure you change the directory to what YOU named them"
      ]
    },
    {
      "cell_type": "markdown",
      "metadata": {
        "id": "PYCxPCBqJKgt"
      },
      "source": [
        ""
      ]
    },
    {
      "cell_type": "markdown",
      "metadata": {
        "id": "qBp5lCgOJIoI"
      },
      "source": [
        ""
      ]
    },
    {
      "cell_type": "markdown",
      "metadata": {
        "id": "MTTApq7Z-j54"
      },
      "source": [
        "### Dataset preparation - (1) sub-sampling\n",
        "\n",
        "Sample patches from each TIF image, and find the corresponding label using the Shapefiles. Save each image with a unique ID save in the directory **SAMPLING_DIR**. Save the corresponding meta data in the following format (this could be a CSV file, NumPy array, or some other format), in the directory **META_DIR**:\n",
        "\n",
        "\n",
        "```\n",
        "image_id, x, y, label\n",
        "```\n",
        "\n",
        "Set the label value as one of \"L\", \"W\", \"I\" as specified in the Shapefiles.\n",
        "\n",
        "To make it easier to patch the final segmentation back together, it is suggested to use the (x, y) pixel coordinates of the patch, rather than the spatial coordinates."
      ]
    },
    {
      "cell_type": "code",
      "metadata": {
        "id": "5W2iHYwdWkFs"
      },
      "source": [
        ""
      ],
      "execution_count": 1,
      "outputs": []
    },
    {
      "cell_type": "code",
      "metadata": {
        "id": "4usdTTQIWkMT"
      },
      "source": [
        ""
      ],
      "execution_count": 1,
      "outputs": []
    },
    {
      "cell_type": "markdown",
      "metadata": {
        "id": "Jgtyqz-aWxgK"
      },
      "source": [
        "Mounting the drive n stuff"
      ]
    },
    {
      "cell_type": "code",
      "metadata": {
        "colab": {
          "base_uri": "https://localhost:8080/"
        },
        "id": "cPlDhjkBWkOr",
        "outputId": "80d9540f-8d7f-43ef-8d12-669d787dc837"
      },
      "source": [
        "from google.colab import drive\r\n",
        "drive.mount('/gdrive')\r\n",
        "drive.mount('/content/drive')\r\n",
        "import os\r\n",
        "os.chdir('/content/drive/My Drive/')"
      ],
      "execution_count": 1,
      "outputs": [
        {
          "output_type": "stream",
          "text": [
            "Mounted at /gdrive\n",
            "Mounted at /content/drive\n"
          ],
          "name": "stdout"
        }
      ]
    },
    {
      "cell_type": "code",
      "metadata": {
        "collapsed": true,
        "id": "AujnfsBY-j55"
      },
      "source": [
        "SAMPLING_DIR = \"/content/drive/sampling/\"\n",
        "META_DIR = \"/content/drive/training/\""
      ],
      "execution_count": 3,
      "outputs": []
    },
    {
      "cell_type": "code",
      "metadata": {
        "id": "3RiS75MeHiY7"
      },
      "source": [
        ""
      ],
      "execution_count": 3,
      "outputs": []
    },
    {
      "cell_type": "code",
      "metadata": {
        "id": "KfuzctPH-mTv"
      },
      "source": [
        "def draw_sample(fname):\r\n",
        "  SHAPEFILE_DIR = \"/content/drive/My Drive/bloop/EE_Polar_Training_Dataset_v-1-0-0/Sea_Ice/\" \r\n",
        "  TIFF_DIR = \"/content/drive/My Drive/bloop/Sentinel geotiffs\"\r\n",
        "  shapefile = SHAPEFILE_DIR + fname # full name of .shp file\r\n",
        "  # extract the shape ID, for example, 20180116T075430\r\n",
        "  shp_id = shapefile.split(\"_\")[-1][:-4].upper()\r\n",
        "  tiff_files = [g for g in glob.glob(TIFF_DIR+'/*.tif')]\r\n",
        "  # locate the corresponding Sentinel-1 image based on the ID\r\n",
        "  # this should only return 1 match, which you can confirm\r\n",
        "  tiff_file = [g for g in tiff_files if shp_id in g]\r\n",
        "  tiff_file = tiff_file[0]\r\n",
        "  "
      ],
      "execution_count": 4,
      "outputs": []
    },
    {
      "cell_type": "code",
      "metadata": {
        "id": "CQ7xvSM1EqgT"
      },
      "source": [
        ""
      ],
      "execution_count": 4,
      "outputs": []
    },
    {
      "cell_type": "code",
      "metadata": {
        "id": "S86TJAFXIFKi"
      },
      "source": [
        "import glob"
      ],
      "execution_count": 2,
      "outputs": []
    },
    {
      "cell_type": "markdown",
      "metadata": {
        "id": "eQvLsb7j-j55"
      },
      "source": [
        "Some helpful code: reading in a single Sentinel-1 image and the corresponding Shapefile."
      ]
    },
    {
      "cell_type": "code",
      "metadata": {
        "collapsed": true,
        "id": "8fmOysu5-j56"
      },
      "source": [
        "# the directory containing all shapefiles - i.e., the location of sea_ice/ \n",
        "SHAPEFILE_DIR = \"/content/drive/My Drive/bloop/EE_Polar_Training_Dataset_v-1-0-0/Sea_Ice/\" \n",
        "TIFF_DIR = \"/content/drive/My Drive/bloop/Sentinel geotiffs\"\n",
        "\n",
        "shapefile = SHAPEFILE_DIR + \"seaice_s1_20180116t075430.shp\" # full name of .shp file\n",
        "\n",
        "# extract the shape ID, for example, 20180116T075430\n",
        "shp_id = shapefile.split(\"_\")[-1][:-4].upper()\n",
        "\n",
        "tiff_files = [g for g in glob.glob(TIFF_DIR+'/*.tif')]\n",
        "# locate the corresponding Sentinel-1 image based on the ID\n",
        "# this should only return 1 match, which you can confirm\n",
        "tiff_file = [g for g in tiff_files if shp_id in g]\n",
        "tiff_file = tiff_file[0]"
      ],
      "execution_count": 6,
      "outputs": []
    },
    {
      "cell_type": "code",
      "metadata": {
        "colab": {
          "base_uri": "https://localhost:8080/",
          "height": 35
        },
        "id": "UWaNJgv9KbjT",
        "outputId": "d9697fbe-59f9-4c94-fbab-9db6af07af89"
      },
      "source": [
        "tiff_file"
      ],
      "execution_count": 7,
      "outputs": [
        {
          "output_type": "execute_result",
          "data": {
            "application/vnd.google.colaboratory.intrinsic+json": {
              "type": "string"
            },
            "text/plain": [
              "'/content/drive/My Drive/bloop/Sentinel geotiffs/S1A_EW_GRDM_1SDH_20180116T075430_20180116T075530_020177_0226B9_9FE3_Orb_Cal_Spk_TC_rgb_8bit.tif'"
            ]
          },
          "metadata": {
            "tags": []
          },
          "execution_count": 7
        }
      ]
    },
    {
      "cell_type": "markdown",
      "metadata": {
        "id": "m29VY8ZI-j56"
      },
      "source": [
        "Feel free to use other Python packages; but as an example, here we use **geopandas** to read in the Shapefile, and **rasterio** to read the GeoTIFF."
      ]
    },
    {
      "cell_type": "code",
      "metadata": {
        "colab": {
          "base_uri": "https://localhost:8080/"
        },
        "id": "8QO4ZxeNKtHK",
        "outputId": "498047a3-ee97-4e87-e08c-1b1e2097b1e0"
      },
      "source": [
        "!apt-get install software-properties-common python-software-properties > /dev/null\r\n",
        "!add-apt-repository ppa:ubuntugis/ppa -y > /dev/null\r\n",
        "!apt-get update > /dev/null\r\n",
        "!apt-get install -y --fix-missing python-gdal gdal-bin libgdal-dev > /dev/null\r\n",
        "!pip2 install OpticalRS > /dev/null"
      ],
      "execution_count": 8,
      "outputs": [
        {
          "output_type": "stream",
          "text": [
            "E: Package 'python-software-properties' has no installation candidate\n",
            "Extracting templates from packages: 100%\n"
          ],
          "name": "stdout"
        }
      ]
    },
    {
      "cell_type": "code",
      "metadata": {
        "id": "BSP3n5OoT88d"
      },
      "source": [
        "import gdal\r\n",
        "array = gdal.Open(tiff_file).ReadAsArray()"
      ],
      "execution_count": 9,
      "outputs": []
    },
    {
      "cell_type": "code",
      "metadata": {
        "colab": {
          "base_uri": "https://localhost:8080/"
        },
        "id": "DCubdvzvUECs",
        "outputId": "2215ba12-939c-4180-e46b-7589a754f02a"
      },
      "source": [
        "array.shape"
      ],
      "execution_count": 10,
      "outputs": [
        {
          "output_type": "execute_result",
          "data": {
            "text/plain": [
              "(3, 15218, 15564)"
            ]
          },
          "metadata": {
            "tags": []
          },
          "execution_count": 10
        }
      ]
    },
    {
      "cell_type": "code",
      "metadata": {
        "colab": {
          "base_uri": "https://localhost:8080/"
        },
        "id": "ahgL2zuLRbXA",
        "outputId": "ace0a4a8-6c18-45b0-ef55-2d3eaeee10fb"
      },
      "source": [
        "!pip install geopandas"
      ],
      "execution_count": 14,
      "outputs": [
        {
          "output_type": "stream",
          "text": [
            "Collecting geopandas\n",
            "\u001b[?25l  Downloading https://files.pythonhosted.org/packages/2a/9f/e8a440a993e024c0d3d4e5c7d3346367c50c9a1a3d735caf5ee3bde0aab1/geopandas-0.8.2-py2.py3-none-any.whl (962kB)\n",
            "\u001b[K     |████████████████████████████████| 972kB 7.9MB/s \n",
            "\u001b[?25hRequirement already satisfied: shapely in /usr/local/lib/python3.7/dist-packages (from geopandas) (1.7.1)\n",
            "Collecting fiona\n",
            "\u001b[?25l  Downloading https://files.pythonhosted.org/packages/47/c2/67d1d0acbaaee3b03e5e22e3b96c33219cb5dd392531c9ff9cee7c2eb3e4/Fiona-1.8.18-cp37-cp37m-manylinux1_x86_64.whl (14.8MB)\n",
            "\u001b[K     |████████████████████████████████| 14.8MB 331kB/s \n",
            "\u001b[?25hCollecting pyproj>=2.2.0\n",
            "\u001b[?25l  Downloading https://files.pythonhosted.org/packages/05/0c/d7c2c7c370ea5368b813a44e772247ed1a461dc47de70c5d02e079abc7e0/pyproj-3.0.0.post1-cp37-cp37m-manylinux2010_x86_64.whl (6.4MB)\n",
            "\u001b[K     |████████████████████████████████| 6.5MB 28.9MB/s \n",
            "\u001b[?25hRequirement already satisfied: pandas>=0.23.0 in /usr/local/lib/python3.7/dist-packages (from geopandas) (1.1.5)\n",
            "Requirement already satisfied: certifi in /usr/local/lib/python3.7/dist-packages (from fiona->geopandas) (2020.12.5)\n",
            "Collecting cligj>=0.5\n",
            "  Downloading https://files.pythonhosted.org/packages/42/1e/947eadf10d6804bf276eb8a038bd5307996dceaaa41cfd21b7a15ec62f5d/cligj-0.7.1-py3-none-any.whl\n",
            "Requirement already satisfied: attrs>=17 in /usr/local/lib/python3.7/dist-packages (from fiona->geopandas) (20.3.0)\n",
            "Collecting click-plugins>=1.0\n",
            "  Downloading https://files.pythonhosted.org/packages/e9/da/824b92d9942f4e472702488857914bdd50f73021efea15b4cad9aca8ecef/click_plugins-1.1.1-py2.py3-none-any.whl\n",
            "Requirement already satisfied: click<8,>=4.0 in /usr/local/lib/python3.7/dist-packages (from fiona->geopandas) (7.1.2)\n",
            "Collecting munch\n",
            "  Downloading https://files.pythonhosted.org/packages/cc/ab/85d8da5c9a45e072301beb37ad7f833cd344e04c817d97e0cc75681d248f/munch-2.5.0-py2.py3-none-any.whl\n",
            "Requirement already satisfied: six>=1.7 in /usr/local/lib/python3.7/dist-packages (from fiona->geopandas) (1.15.0)\n",
            "Requirement already satisfied: python-dateutil>=2.7.3 in /usr/local/lib/python3.7/dist-packages (from pandas>=0.23.0->geopandas) (2.8.1)\n",
            "Requirement already satisfied: pytz>=2017.2 in /usr/local/lib/python3.7/dist-packages (from pandas>=0.23.0->geopandas) (2018.9)\n",
            "Requirement already satisfied: numpy>=1.15.4 in /usr/local/lib/python3.7/dist-packages (from pandas>=0.23.0->geopandas) (1.19.5)\n",
            "Installing collected packages: cligj, click-plugins, munch, fiona, pyproj, geopandas\n",
            "Successfully installed click-plugins-1.1.1 cligj-0.7.1 fiona-1.8.18 geopandas-0.8.2 munch-2.5.0 pyproj-3.0.0.post1\n"
          ],
          "name": "stdout"
        }
      ]
    },
    {
      "cell_type": "code",
      "metadata": {
        "collapsed": true,
        "id": "eyKxFtqS-j57",
        "colab": {
          "base_uri": "https://localhost:8080/",
          "height": 204
        },
        "outputId": "fa4e3c19-bc15-4755-e302-3ac33832c610"
      },
      "source": [
        "import geopandas as gpd\n",
        "#import rasterio\n",
        "\n",
        "shape_data = gpd.read_file(shapefile)\n",
        "\n",
        "shape_data.head()"
      ],
      "execution_count": 15,
      "outputs": [
        {
          "output_type": "execute_result",
          "data": {
            "text/html": [
              "<div>\n",
              "<style scoped>\n",
              "    .dataframe tbody tr th:only-of-type {\n",
              "        vertical-align: middle;\n",
              "    }\n",
              "\n",
              "    .dataframe tbody tr th {\n",
              "        vertical-align: top;\n",
              "    }\n",
              "\n",
              "    .dataframe thead th {\n",
              "        text-align: right;\n",
              "    }\n",
              "</style>\n",
              "<table border=\"1\" class=\"dataframe\">\n",
              "  <thead>\n",
              "    <tr style=\"text-align: right;\">\n",
              "      <th></th>\n",
              "      <th>id</th>\n",
              "      <th>CA</th>\n",
              "      <th>SA</th>\n",
              "      <th>FA</th>\n",
              "      <th>CB</th>\n",
              "      <th>SB</th>\n",
              "      <th>FB</th>\n",
              "      <th>CT</th>\n",
              "      <th>poly_type</th>\n",
              "      <th>area</th>\n",
              "      <th>perimeter</th>\n",
              "      <th>geometry</th>\n",
              "    </tr>\n",
              "  </thead>\n",
              "  <tbody>\n",
              "    <tr>\n",
              "      <th>0</th>\n",
              "      <td>1</td>\n",
              "      <td>99</td>\n",
              "      <td>99</td>\n",
              "      <td>99</td>\n",
              "      <td>99</td>\n",
              "      <td>99</td>\n",
              "      <td>99</td>\n",
              "      <td>99</td>\n",
              "      <td>I</td>\n",
              "      <td>10797710</td>\n",
              "      <td>27049</td>\n",
              "      <td>POLYGON ((-489524.300 -1426091.270, -488551.97...</td>\n",
              "    </tr>\n",
              "    <tr>\n",
              "      <th>1</th>\n",
              "      <td>2</td>\n",
              "      <td>99</td>\n",
              "      <td>99</td>\n",
              "      <td>99</td>\n",
              "      <td>99</td>\n",
              "      <td>99</td>\n",
              "      <td>99</td>\n",
              "      <td>99</td>\n",
              "      <td>W</td>\n",
              "      <td>77404396626</td>\n",
              "      <td>2078665</td>\n",
              "      <td>POLYGON ((-386420.098 -1661503.239, -386646.67...</td>\n",
              "    </tr>\n",
              "    <tr>\n",
              "      <th>2</th>\n",
              "      <td>3</td>\n",
              "      <td>99</td>\n",
              "      <td>99</td>\n",
              "      <td>99</td>\n",
              "      <td>99</td>\n",
              "      <td>99</td>\n",
              "      <td>99</td>\n",
              "      <td>99</td>\n",
              "      <td>I</td>\n",
              "      <td>145176122</td>\n",
              "      <td>64674</td>\n",
              "      <td>POLYGON ((-485920.665 -1506863.657, -483911.10...</td>\n",
              "    </tr>\n",
              "    <tr>\n",
              "      <th>3</th>\n",
              "      <td>4</td>\n",
              "      <td>99</td>\n",
              "      <td>99</td>\n",
              "      <td>99</td>\n",
              "      <td>99</td>\n",
              "      <td>99</td>\n",
              "      <td>99</td>\n",
              "      <td>99</td>\n",
              "      <td>L</td>\n",
              "      <td>10137</td>\n",
              "      <td>572</td>\n",
              "      <td>POLYGON ((-470402.672 -1412012.139, -470511.58...</td>\n",
              "    </tr>\n",
              "    <tr>\n",
              "      <th>4</th>\n",
              "      <td>5</td>\n",
              "      <td>99</td>\n",
              "      <td>99</td>\n",
              "      <td>99</td>\n",
              "      <td>99</td>\n",
              "      <td>99</td>\n",
              "      <td>99</td>\n",
              "      <td>99</td>\n",
              "      <td>L</td>\n",
              "      <td>1284942354</td>\n",
              "      <td>277299</td>\n",
              "      <td>POLYGON ((-503153.134 -1606829.784, -503172.44...</td>\n",
              "    </tr>\n",
              "  </tbody>\n",
              "</table>\n",
              "</div>"
            ],
            "text/plain": [
              "   id  CA  ...  perimeter                                           geometry\n",
              "0   1  99  ...      27049  POLYGON ((-489524.300 -1426091.270, -488551.97...\n",
              "1   2  99  ...    2078665  POLYGON ((-386420.098 -1661503.239, -386646.67...\n",
              "2   3  99  ...      64674  POLYGON ((-485920.665 -1506863.657, -483911.10...\n",
              "3   4  99  ...        572  POLYGON ((-470402.672 -1412012.139, -470511.58...\n",
              "4   5  99  ...     277299  POLYGON ((-503153.134 -1606829.784, -503172.44...\n",
              "\n",
              "[5 rows x 12 columns]"
            ]
          },
          "metadata": {
            "tags": []
          },
          "execution_count": 15
        }
      ]
    },
    {
      "cell_type": "code",
      "metadata": {
        "colab": {
          "base_uri": "https://localhost:8080/"
        },
        "id": "O2GEFLvoM8bU",
        "outputId": "dbdb4252-e9cb-4531-f3e9-7f57db51ffd8"
      },
      "source": [
        "import numpy as np\r\n",
        "np.sqrt((shape_data['area']).min())"
      ],
      "execution_count": 17,
      "outputs": [
        {
          "output_type": "execute_result",
          "data": {
            "text/plain": [
              "8.48528137423857"
            ]
          },
          "metadata": {
            "tags": []
          },
          "execution_count": 17
        }
      ]
    },
    {
      "cell_type": "code",
      "metadata": {
        "id": "1YbtF3Avtd21"
      },
      "source": [
        "(shape_data['poly_type']=='L').sum()"
      ],
      "execution_count": null,
      "outputs": []
    },
    {
      "cell_type": "code",
      "metadata": {
        "id": "zhH4a23ntgrk"
      },
      "source": [
        "(shape_data['poly_type']=='I').sum()"
      ],
      "execution_count": null,
      "outputs": []
    },
    {
      "cell_type": "code",
      "metadata": {
        "id": "JE9dgagxNi0D"
      },
      "source": [
        "shape_data['geometry'][1]"
      ],
      "execution_count": null,
      "outputs": []
    },
    {
      "cell_type": "code",
      "metadata": {
        "id": "X9ETfZhxNuea"
      },
      "source": [
        "array = gdal.Open(tiff_file)"
      ],
      "execution_count": null,
      "outputs": []
    },
    {
      "cell_type": "code",
      "metadata": {
        "id": "JG5ZUOFFZu_z"
      },
      "source": [
        "dataset=array\r\n",
        "\r\n",
        "print(\"Driver: {}/{}\".format(dataset.GetDriver().ShortName,\r\n",
        "                            dataset.GetDriver().LongName))\r\n",
        "print(\"Size is {} x {} x {}\".format(dataset.RasterXSize,\r\n",
        "                                    dataset.RasterYSize,\r\n",
        "                                    dataset.RasterCount))\r\n",
        "print(\"Projection is {}\".format(dataset.GetProjection()))\r\n",
        "geotransform = dataset.GetGeoTransform()\r\n",
        "if geotransform:\r\n",
        "    print(\"Origin = ({}, {})\".format(geotransform[0], geotransform[3]))\r\n",
        "    print(\"Pixel Size = ({}, {})\".format(geotransform[1], geotransform[5]))"
      ],
      "execution_count": null,
      "outputs": []
    },
    {
      "cell_type": "code",
      "metadata": {
        "id": "ogXjVeJBlzuU"
      },
      "source": [
        "import matplotlib.pyplot as plt\r\n",
        "band = dataset.GetRasterBand(1).ReadAsArray()\r\n",
        "arr = band.ReadAsArray()\r\n",
        "plt.imshow(arr)"
      ],
      "execution_count": null,
      "outputs": []
    },
    {
      "cell_type": "code",
      "metadata": {
        "id": "yIHrrb3PmYn8"
      },
      "source": [
        ""
      ],
      "execution_count": null,
      "outputs": []
    },
    {
      "cell_type": "code",
      "metadata": {
        "id": "Okqz3lgBOqpq"
      },
      "source": [
        "maxx"
      ],
      "execution_count": null,
      "outputs": []
    },
    {
      "cell_type": "code",
      "metadata": {
        "id": "c9wnafnDZQvV"
      },
      "source": [
        "band = array.GetRasterBand(1)\r\n",
        "print(\"Band Type={}\".format(gdal.GetDataTypeName(band.DataType)))\r\n",
        "\r\n",
        "min = band.GetMinimum()\r\n",
        "max = band.GetMaximum()\r\n",
        "if not min or not max:\r\n",
        "    (min,max) = band.ComputeRasterMinMax(True)\r\n",
        "print(\"Min={:.3f}, Max={:.3f}\".format(min,max))\r\n",
        "\r\n",
        "if band.GetOverviewCount() > 0:\r\n",
        "    print(\"Band has {} overviews\".format(band.GetOverviewCount()))\r\n",
        "\r\n",
        "if band.GetRasterColorTable():\r\n",
        "    print(\"Band has a color table with {} entries\".format(band.GetRasterColorTable().GetCount()))"
      ],
      "execution_count": null,
      "outputs": []
    },
    {
      "cell_type": "code",
      "metadata": {
        "collapsed": true,
        "id": "5XU12l0E-j57"
      },
      "source": [
        "# Does not work so pls ignore lololol\n",
        "# directory containing all GeoTIFF files\n",
        "\n",
        "#tif_img = rasterio.open(TIFF_DIR + tiff_file)"
      ],
      "execution_count": null,
      "outputs": []
    },
    {
      "cell_type": "code",
      "metadata": {
        "collapsed": true,
        "id": "8ofvGU4p-j57"
      },
      "source": [
        ""
      ],
      "execution_count": null,
      "outputs": []
    },
    {
      "cell_type": "code",
      "metadata": {
        "collapsed": true,
        "id": "dmYXIql3-j58"
      },
      "source": [
        ""
      ],
      "execution_count": null,
      "outputs": []
    },
    {
      "cell_type": "code",
      "metadata": {
        "collapsed": true,
        "id": "MgWdkpo5-j58"
      },
      "source": [
        ""
      ],
      "execution_count": null,
      "outputs": []
    },
    {
      "cell_type": "markdown",
      "metadata": {
        "id": "dFxw8tg6-j58"
      },
      "source": [
        "The shapes in the Shapefiles are **shapely** objects. We can also use the Python package **shapely** to check whether an x, y pixel coordinate position is in a given polyshape."
      ]
    },
    {
      "cell_type": "code",
      "metadata": {
        "collapsed": true,
        "id": "FcoouG3z-j59",
        "colab": {
          "base_uri": "https://localhost:8080/"
        },
        "outputId": "c29cabaf-4896-46f4-ae8e-3191518af0d3"
      },
      "source": [
        "from shapely.geometry import Point\n",
        "\n",
        "x = -214683.0164737697\n",
        "y = -1599535.861627199\n",
        "\n",
        "point = Point(x, y)\n",
        "\n",
        "# for example, specify the shape in the Shapefile\n",
        "shape_id = 1\n",
        "\n",
        "if shape_data['geometry'][shape_id].contains(point):\n",
        "    print(\"Point\", point, \"is in shape\", shape_id, \"and has class\", shape_data['poly_type'][shape_id])"
      ],
      "execution_count": 18,
      "outputs": [
        {
          "output_type": "stream",
          "text": [
            "Point POINT (-214683.0164737697 -1599535.861627199) is in shape 1 and has class W\n"
          ],
          "name": "stdout"
        }
      ]
    },
    {
      "cell_type": "code",
      "metadata": {
        "collapsed": true,
        "id": "uJ94ww---j59"
      },
      "source": [
        "import numpy as np"
      ],
      "execution_count": null,
      "outputs": []
    },
    {
      "cell_type": "code",
      "metadata": {
        "id": "q66XH7178F30"
      },
      "source": [
        "(maxx-minx)/width"
      ],
      "execution_count": null,
      "outputs": []
    },
    {
      "cell_type": "code",
      "metadata": {
        "id": "QAVlOIVt7ZbX"
      },
      "source": [
        ""
      ],
      "execution_count": null,
      "outputs": []
    },
    {
      "cell_type": "code",
      "metadata": {
        "id": "TKr1-4FLlDWz"
      },
      "source": [
        "ds = dataset\r\n",
        "width = ds.RasterXSize\r\n",
        "height = ds.RasterYSize\r\n",
        "gt = ds.GetGeoTransform()\r\n",
        "minx = gt[0]\r\n",
        "miny = gt[3] + width*gt[4] + height*gt[5] \r\n",
        "maxx = gt[0] + width*gt[1] + height*gt[2]\r\n",
        "maxy = gt[3] \r\n",
        "\r\n",
        "pointspermonth = 20\r\n",
        "\r\n",
        "xs = np.random.uniform(minx, maxx, 20)\r\n",
        "ys = np.random.uniform(miny, maxy, 20)"
      ],
      "execution_count": null,
      "outputs": []
    },
    {
      "cell_type": "code",
      "metadata": {
        "id": "q00Wsqw0lDZ6"
      },
      "source": [
        "def getclass():\r\n",
        "  while True:\r\n",
        "    x = np.random.uniform(minx, maxx)\r\n",
        "    y = np.random.uniform(miny, maxy)\r\n",
        "    point = Point(x,y)\r\n",
        "    for i, shape in enumerate(shape_data):\r\n",
        "      if shape_data['geometry'][i].contains(point):\r\n",
        "        return shape_data['poly_type'][i], x, y\r\n"
      ],
      "execution_count": 20,
      "outputs": []
    },
    {
      "cell_type": "code",
      "metadata": {
        "id": "2l9UWbWtlDc9"
      },
      "source": [
        "#for i in range(100):\r\n",
        "#  print(getclass())\r\n",
        "SAMPLING_DIR = \"/content/drive/My Drive/sampling/\"\r\n",
        "META_DIR = \"/content/drive/My Drive/training/\""
      ],
      "execution_count": 21,
      "outputs": []
    },
    {
      "cell_type": "code",
      "metadata": {
        "collapsed": true,
        "id": "DmEb_nS5-j59"
      },
      "source": [
        "# the directory containing all shapefiles - i.e., the location of sea_ice/ \r\n",
        "SHAPEFILE_DIR = \"/content/drive/My Drive/bloop/EE_Polar_Training_Dataset_v-1-0-0/Sea_Ice/\" \r\n",
        "TIFF_DIR = \"/content/drive/My Drive/bloop/Sentinel geotiffs/\"\r\n",
        "\r\n",
        "shapefile = SHAPEFILE_DIR + \"seaice_s1_20180116t075430.shp\" # full name of .shp file\r\n",
        "\r\n",
        "# extract the shape ID, for example, 20180116T075430\r\n",
        "shp_id = shapefile.split(\"_\")[-1][:-4].upper()\r\n",
        "\r\n",
        "tiff_files = [g for g in glob.glob(TIFF_DIR+'/*.tif')]\r\n",
        "# locate the corresponding Sentinel-1 image based on the ID\r\n",
        "# this should only return 1 match, which you can confirm               \r\n",
        "tiff_file = [g for g in tiff_files if shp_id in g]\r\n",
        "tiff_file = tiff_file[0]"
      ],
      "execution_count": 22,
      "outputs": []
    },
    {
      "cell_type": "markdown",
      "metadata": {
        "id": "F5dcwQCWvTJv"
      },
      "source": [
        "# This is where the cool stuff starts![Rainbow Simple Color Palette - color-hex.com.png](data:image/png;base64,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)"
      ]
    },
    {
      "cell_type": "markdown",
      "metadata": {
        "id": "6LpDYrEOJ_b4"
      },
      "source": [
        "ppm = points per month - how many images we want from each .tif file\r\n",
        "\r\n"
      ]
    },
    {
      "cell_type": "markdown",
      "metadata": {
        "id": "M33INx_wKgE3"
      },
      "source": [
        "slicexdim, sliceydim: resolution of resulting image (I chose 128 because the square root of the size of the smallest area was around 129)"
      ]
    },
    {
      "cell_type": "markdown",
      "metadata": {
        "id": "7Ofj02ORKhQ3"
      },
      "source": [
        "I'm not really sure how to save to a specific directory so this will just create the files to a random place, please change if you know how :)"
      ]
    },
    {
      "cell_type": "markdown",
      "metadata": {
        "id": "ui9JOrnqKunX"
      },
      "source": [
        "Make sure your directories are defined!"
      ]
    },
    {
      "cell_type": "markdown",
      "metadata": {
        "id": "lvyEMeVVKzJt"
      },
      "source": [
        "You will have 1 .csv file with the file ID, classification, x and y for each image, and 12 * ppm images of size(slicexdim * sliceydim)"
      ]
    },
    {
      "cell_type": "code",
      "metadata": {
        "id": "b0kZIf8VrRdd"
      },
      "source": [
        "shapefilelist = [g for g in glob.glob(SHAPEFILE_DIR+'/*.shp')]\r\n",
        "ppm = 50\r\n",
        "slicexdim = 128\r\n",
        "sliceydim = 128\r\n",
        "\r\n",
        "outfile = np.empty((ppm*12,4),dtype=object)\r\n",
        "\r\n",
        "from PIL import Image\r\n",
        "import pandas as pd\r\n",
        "\r\n",
        "def getclass(shape_data, minx, maxx, miny, maxy):\r\n",
        "  while True:\r\n",
        "    x = np.random.uniform(minx, maxx)\r\n",
        "    y = np.random.uniform(miny, maxy)\r\n",
        "    point = Point(x,y)\r\n",
        "    for i in range(shape_data.shape[0]):\r\n",
        "      if shape_data['geometry'][i].contains(point):\r\n",
        "        return shape_data['poly_type'][i], x, y\r\n",
        "\r\n",
        "def findslice(x, y, gt, slicexdim, sliceydim, width, height):\r\n",
        "  minx = gt[0]\r\n",
        "  miny = gt[3] + width*gt[4] + height*gt[5] \r\n",
        "  maxx = gt[0] + width*gt[1] + height*gt[2]\r\n",
        "  maxy = gt[3]\r\n",
        "  dx = (maxx-minx)/width\r\n",
        "  dy = (maxy-miny)/height\r\n",
        "  pointx = np.int((x-minx)/dx)\r\n",
        "  pointy = np.int((y-miny)/dy)\r\n",
        "  \r\n",
        "  yrangemin = np.int(pointy-sliceydim/2)\r\n",
        "  yrangemax = np.int(pointy+sliceydim/2)\r\n",
        "\r\n",
        "  xrangemin = np.int(pointx-slicexdim/2)\r\n",
        "  xrangemax = np.int(pointx+slicexdim/2)\r\n",
        "  return xrangemin, xrangemax, yrangemin, yrangemax\r\n",
        "\r\n",
        "for k, file in enumerate(shapefilelist):\r\n",
        "  shapefile = file\r\n",
        "  shp_id = shapefile.split(\"_\")[-1][:-4].upper()\r\n",
        "  tiff_files = [g for g in glob.glob(TIFF_DIR+'/*.tif')]\r\n",
        "  # locate the corresponding Sentinel-1 image based on the ID\r\n",
        "  # this should only return 1 match, which you can confirm\r\n",
        "  tiff_file = [g for g in tiff_files if shp_id in g]\r\n",
        "  tiff_file = tiff_file[0]\r\n",
        "  ds = gdal.Open(tiff_file)\r\n",
        "  width = ds.RasterXSize\r\n",
        "  height = ds.RasterYSize\r\n",
        "  gt = ds.GetGeoTransform()\r\n",
        "  minx = gt[0]\r\n",
        "  miny = gt[3] + width*gt[4] + height*gt[5] \r\n",
        "  maxx = gt[0] + width*gt[1] + height*gt[2]\r\n",
        "  maxy = gt[3] \r\n",
        "  shape_data = gpd.read_file(shapefile)\r\n",
        "  dataset = ds\r\n",
        "  for j in range(ppm):\r\n",
        "    l = k*ppm+j\r\n",
        "    a, b, c = getclass(shape_data, minx, maxx, miny, maxy)\r\n",
        "    outfile[l,:] = [shp_id, a, b, c]\r\n",
        "    xrangemin, xrangemax, yrangemin, yrangemax = findslice(b, c, gt, slicexdim, sliceydim, width, height)\r\n",
        "    r = dataset.GetRasterBand(1).ReadAsArray()[xrangemin:xrangemax, yrangemin:yrangemax]\r\n",
        "    g = dataset.GetRasterBand(2).ReadAsArray()[xrangemin:xrangemax, yrangemin:yrangemax]\r\n",
        "    b = dataset.GetRasterBand(3).ReadAsArray()[xrangemin:xrangemax, yrangemin:yrangemax]\r\n",
        "    rgbArray = np.zeros((slicexdim,sliceydim,3), 'uint8')\r\n",
        "    rgbArray[..., 0] = r\r\n",
        "    rgbArray[..., 1] = g\r\n",
        "    rgbArray[..., 2] = b\r\n",
        "    img = Image.fromarray(rgbArray)\r\n",
        "    strname = str(l)+'.png'\r\n",
        "    img.save(strname)\r\n",
        "    !cp strname META_DIR\r\n",
        "    df = pd.DataFrame(outfile)\r\n",
        "    df.to_csv('bigsetmeta.csv')\r\n",
        "    !cp bigsetmeta.csv META_DIR"
      ],
      "execution_count": null,
      "outputs": []
    },
    {
      "cell_type": "code",
      "metadata": {
        "colab": {
          "base_uri": "https://localhost:8080/",
          "height": 103
        },
        "id": "omIdYjPGYuF-",
        "outputId": "cc5b665f-4ab1-49f2-e053-d2b091b3d418"
      },
      "source": [
        "import matplotlib.pyplot as plt\r\n",
        "plt.imshow(dataset.GetRasterBand(1).ReadAsArray()[xrangemin:, yrangemin:])"
      ],
      "execution_count": 34,
      "outputs": [
        {
          "output_type": "stream",
          "text": [
            "/usr/local/lib/python3.7/dist-packages/ipykernel_launcher.py:2: UserWarning: Attempting to set identical bottom == top == -0.5 results in singular transformations; automatically expanding.\n",
            "  \n"
          ],
          "name": "stderr"
        },
        {
          "output_type": "execute_result",
          "data": {
            "text/plain": [
              "<matplotlib.image.AxesImage at 0x7f164f253b10>"
            ]
          },
          "metadata": {
            "tags": []
          },
          "execution_count": 34
        },
        {
          "output_type": "display_data",
          "data": {
            "image/png": "[encoded data removed]",
            "text/plain": [
              "<Figure size 432x288 with 1 Axes>"
            ]
          },
          "metadata": {
            "tags": [],
            "needs_background": "light"
          }
        }
      ]
    },
    {
      "cell_type": "code",
      "metadata": {
        "colab": {
          "base_uri": "https://localhost:8080/"
        },
        "id": "KwL36brCZTld",
        "outputId": "3c4fa11d-b55f-49f7-a640-8e4ef11715e7"
      },
      "source": [
        "yrangemax"
      ],
      "execution_count": 39,
      "outputs": [
        {
          "output_type": "execute_result",
          "data": {
            "text/plain": [
              "9144"
            ]
          },
          "metadata": {
            "tags": []
          },
          "execution_count": 39
        }
      ]
    },
    {
      "cell_type": "code",
      "metadata": {
        "colab": {
          "base_uri": "https://localhost:8080/"
        },
        "id": "N_zBAMt-ZZJQ",
        "outputId": "00650bbb-9e4a-4a0a-e806-31b0502571fc"
      },
      "source": [
        "height"
      ],
      "execution_count": 38,
      "outputs": [
        {
          "output_type": "execute_result",
          "data": {
            "text/plain": [
              "14715"
            ]
          },
          "metadata": {
            "tags": []
          },
          "execution_count": 38
        }
      ]
    },
    {
      "cell_type": "markdown",
      "metadata": {
        "id": "0zyj-pPRLM0n"
      },
      "source": [
        "# End of cool stuff"
      ]
    },
    {
      "cell_type": "code",
      "metadata": {
        "id": "iYNSwUM0_Qpn"
      },
      "source": [
        "from PIL import Image\r\n",
        "#im = Image.fromarray()\r\n",
        "#im.save(\"testimg.png\")\r\n",
        "from PIL import Image\r\n",
        "import numpy as np\r\n",
        "rgbArray = np.zeros((129,129,3), 'uint8')\r\n",
        "rgbArray[..., 0] = r\r\n",
        "rgbArray[..., 1] = g\r\n",
        "rgbArray[..., 2] = b\r\n",
        "img = Image.fromarray(rgbArray)\r\n",
        "img.save('trythisbebyyy.png')"
      ],
      "execution_count": null,
      "outputs": []
    },
    {
      "cell_type": "code",
      "metadata": {
        "id": "axhm-8-8Ah3f"
      },
      "source": [
        "l"
      ],
      "execution_count": null,
      "outputs": []
    },
    {
      "cell_type": "code",
      "metadata": {
        "id": "uWpqyZEhAs_e"
      },
      "source": [
        "saveto = r'/content/drive/My Drive/bloop/images/' + shp_id\r\n",
        "!cp trythisbebyyy.png '/content/drive/My Drive/bloop/'"
      ],
      "execution_count": null,
      "outputs": []
    },
    {
      "cell_type": "code",
      "metadata": {
        "id": "fS9cf7OfGnRY"
      },
      "source": [
        ""
      ],
      "execution_count": null,
      "outputs": []
    },
    {
      "cell_type": "code",
      "metadata": {
        "id": "RRPxG1z4xnuX"
      },
      "source": [
        "import pandas as pd\r\n",
        "df = pd.DataFrame(outfile)\r\n",
        "df.to_csv('meta.csv')\r\n",
        "!cp meta.csv META_DIR"
      ],
      "execution_count": null,
      "outputs": []
    },
    {
      "cell_type": "code",
      "metadata": {
        "id": "pkGbBPXmwfmu"
      },
      "source": [
        "outfile"
      ],
      "execution_count": null,
      "outputs": []
    },
    {
      "cell_type": "markdown",
      "metadata": {
        "id": "8TZCbWrV-j5-"
      },
      "source": [
        "Define a train/validation ratio. Patches and meta saved from the test TIF images should be stored in separate directories."
      ]
    },
    {
      "cell_type": "code",
      "metadata": {
        "collapsed": true,
        "id": "sDaJOga5-j5-"
      },
      "source": [
        "train_size = 0.7\n",
        "\n",
        "valid_size = 1.0 - train_size"
      ],
      "execution_count": 3,
      "outputs": []
    },
    {
      "cell_type": "markdown",
      "metadata": {
        "id": "8Xuk-lWx-j5-"
      },
      "source": [
        "Map the class category characters to integers."
      ]
    },
    {
      "cell_type": "code",
      "metadata": {
        "collapsed": true,
        "id": "ikMewdT_-j5-"
      },
      "source": [
        "LABELS = {\n",
        "\t\"L\": 0,\n",
        "\t\"W\": 1,\n",
        "\t\"I\": 2,\n",
        "}"
      ],
      "execution_count": 4,
      "outputs": []
    },
    {
      "cell_type": "markdown",
      "metadata": {
        "id": "cWaVSu8H-j5_"
      },
      "source": [
        "The following is a Dataset class which reads in image data saved in the format described above."
      ]
    },
    {
      "cell_type": "code",
      "metadata": {
        "id": "z4ffqqySQFIN"
      },
      "source": [
        "import csv\r\n",
        "import numpy as np\r\n",
        "\r\n",
        "data_path = '/content/drive/My Drive/bigset/bigsetmeta.csv'\r\n",
        "with open(data_path, 'r') as f:\r\n",
        "    reader = csv.reader(f, delimiter=',')\r\n",
        "    headers = next(reader)\r\n",
        "    data = np.array(list(reader))\r\n",
        "\r\n"
      ],
      "execution_count": 6,
      "outputs": []
    },
    {
      "cell_type": "code",
      "metadata": {
        "colab": {
          "base_uri": "https://localhost:8080/"
        },
        "id": "6y4YagC2YuAB",
        "outputId": "7cd07706-bb5f-411b-8c04-b9955ec69c7b"
      },
      "source": [
        "data"
      ],
      "execution_count": 9,
      "outputs": [
        {
          "output_type": "execute_result",
          "data": {
            "text/plain": [
              "array([['0', '20180814T075344', 'I', '-408603.8696237185',\n",
              "        '-1331930.2215546123'],\n",
              "       ['1', '20180814T075344', 'W', '-306405.4782707568',\n",
              "        '-1565548.4051071848'],\n",
              "       ['2', '20180814T075344', 'W', '-267806.56273624004',\n",
              "        '-1622778.9697348708'],\n",
              "       ...,\n",
              "       ['597', '20180717T073809', 'I', '-226623.92578350333',\n",
              "        '-1391086.1662516356'],\n",
              "       ['598', '20180717T073809', 'W', '-263345.5367577863',\n",
              "        '-1597046.15993017'],\n",
              "       ['599', '20180717T073809', 'I', '-234288.4693729615',\n",
              "        '-1439731.1035065567']], dtype='<U19')"
            ]
          },
          "metadata": {
            "tags": []
          },
          "execution_count": 9
        }
      ]
    },
    {
      "cell_type": "code",
      "metadata": {
        "collapsed": true,
        "id": "Irb1P5YR-j5_"
      },
      "source": [
        "from torch.utils.data import Dataset\n",
        "from torchvision import transforms\n",
        "\n",
        "from PIL import Image\n",
        "\n",
        "class PolarPatch(Dataset):\n",
        "    def __init__(self, transform=None, split=\"train\"):\n",
        "        super(PolarPatch, self).__init__()\n",
        "\n",
        "        assert split in [\"train\", \"val\"]\n",
        "        \n",
        "        # TODO: load in meta data, which should be of shape (3, N) - N being the number of samples\n",
        "        meta = []\n",
        "        meta = data[:, 2:5]\n",
        "\n",
        "        train_dim = int(train_size * len(meta))\n",
        "        \n",
        "        if split == \"train\":\n",
        "            meta = meta[:train_dim]\n",
        "        else:\n",
        "            meta = meta[train_dim:]                   \n",
        "\n",
        "        self.images = range(len(meta))\n",
        "        self.coords = [(row[1], row[2]) for row in meta]\n",
        "\n",
        "        # Targets in integer form for computing cross entropy\n",
        "        self.targets = [LABELS[row[0]] for row in meta]\n",
        "        self.transform = transform\n",
        "\n",
        "\n",
        "    def __len__(self):\n",
        "        return len(self.targets)\n",
        "\n",
        "    def __getitem__(self, index):\n",
        "\n",
        "        x = Image.open(SAMPLING_DIR + str(index) + \".png\") # change this file format if needed\n",
        "        y = self.targets[index]\n",
        "        coord = self.coords[index]\n",
        "\n",
        "        if self.transform:\n",
        "        \tx = self.transform(x)\n",
        "\n",
        "        return x, y, coord"
      ],
      "execution_count": 10,
      "outputs": []
    },
    {
      "cell_type": "markdown",
      "metadata": {
        "id": "lHLPTJL_-j5_"
      },
      "source": [
        "An example data transform"
      ]
    },
    {
      "cell_type": "code",
      "metadata": {
        "collapsed": true,
        "id": "tOK8djGd-j5_"
      },
      "source": [
        "data_transform = transforms.Compose([\n",
        "    # TODO: add whatever else you need - normalisation, augmentation, etc.\n",
        "\ttransforms.ToTensor(),\n",
        "])"
      ],
      "execution_count": 11,
      "outputs": []
    },
    {
      "cell_type": "code",
      "metadata": {
        "colab": {
          "base_uri": "https://localhost:8080/"
        },
        "id": "nzzYhlDbln8T",
        "outputId": "efcecc52-64f9-45d0-fa13-5aa8083d3786"
      },
      "source": [
        "data[:, 2:5]"
      ],
      "execution_count": 35,
      "outputs": [
        {
          "output_type": "execute_result",
          "data": {
            "text/plain": [
              "array([['I', '-408603.8696237185', '-1331930.2215546123'],\n",
              "       ['W', '-306405.4782707568', '-1565548.4051071848'],\n",
              "       ['W', '-267806.56273624004', '-1622778.9697348708'],\n",
              "       ...,\n",
              "       ['I', '-226623.92578350333', '-1391086.1662516356'],\n",
              "       ['W', '-263345.5367577863', '-1597046.15993017'],\n",
              "       ['I', '-234288.4693729615', '-1439731.1035065567']], dtype='<U19')"
            ]
          },
          "metadata": {
            "tags": []
          },
          "execution_count": 35
        }
      ]
    },
    {
      "cell_type": "markdown",
      "metadata": {
        "id": "qh3geoSw-j6A"
      },
      "source": [
        "### Dataset preparation - (2) data loaders\n",
        "\n",
        "Now we can prepare the data loaders. Here is the example for the training set; you will also need the validation and test set."
      ]
    },
    {
      "cell_type": "code",
      "metadata": {
        "collapsed": true,
        "id": "mNMcldHn-j6A"
      },
      "source": [
        "import torch\n",
        "\n",
        "# TODO set this value based on your working environment\n",
        "BATCH_SIZE = 200\n",
        "\n",
        "train_set = PolarPatch(\n",
        "    split='train',\n",
        "    transform=data_transform\n",
        ")\n",
        "\n",
        "train_loader = torch.utils.data.DataLoader(\n",
        "    train_set,\n",
        "    batch_size=BATCH_SIZE,\n",
        "    shuffle=True,\n",
        "    num_workers=2\n",
        ")\n",
        "\n",
        "\n",
        "test_set = PolarPatch(\n",
        "    split = 'val',\n",
        "    transform = data_transform\n",
        ")\n",
        "\n",
        "test_loader = torch.utils.data.DataLoader(\n",
        "    test_set,\n",
        "    batch_size=BATCH_SIZE,\n",
        "    shuffle=True,\n",
        "    num_workers=2\n",
        ")\n",
        "\n"
      ],
      "execution_count": 84,
      "outputs": []
    },
    {
      "cell_type": "code",
      "metadata": {
        "collapsed": true,
        "id": "IUZRuStx-j6A"
      },
      "source": [
        ""
      ],
      "execution_count": null,
      "outputs": []
    },
    {
      "cell_type": "markdown",
      "metadata": {
        "id": "dnhGcEjb-j6A"
      },
      "source": [
        "### Model\n",
        "\n",
        "You can use a custom model architecture, or copy one from literature. It is recommended to not build too deep of a network for the sake of training time."
      ]
    },
    {
      "cell_type": "code",
      "metadata": {
        "collapsed": true,
        "id": "lVIlwj_2-j6B",
        "colab": {
          "base_uri": "https://localhost:8080/"
        },
        "outputId": "b72ab886-b2ab-40eb-e2ac-d72098fea5d2"
      },
      "source": [
        "import torch.nn as nn\n",
        "\n",
        "class PolarNet(nn.Module):\n",
        "    def __init__(self, n_classes=3):\n",
        "        super(PolarNet, self).__init__()\n",
        "\n",
        "        self.features = nn.Sequential(\n",
        "            # TODO: build your own architecture here; one conv layer and ReLU here as an example only\n",
        "            nn.Conv2d(3, 16, kernel_size=3, stride=1, padding=1),\n",
        "            nn.ReLU(inplace=True), \n",
        "            nn.MaxPool2d((2,2), stride=2),\n",
        "\n",
        "            nn.Conv2d(16, 32, kernel_size=5, stride=2, padding=1),\n",
        "            nn.ReLU(inplace=True), \n",
        "\n",
        "            nn.Conv2d(32, 64, kernel_size=5, stride = 3, padding=1),\n",
        "            nn.ReLU(),\n",
        "            nn.MaxPool2d((2,2), stride=2),\n",
        "        )\n",
        "\n",
        "        self.classifier = nn.Sequential(\n",
        "            # TODO: continue classifier section of architecture here for classification approach;\n",
        "            # otherwise, remove and add in upscaling for a fully-convolutional segmentation approach \n",
        "            nn.Linear(1600, n_classes),\n",
        "        )      \n",
        "\n",
        "    def forward(self, x):\n",
        "        # as an example; alter as needed depending on your architecture\n",
        "        x = self.features(x)\n",
        "\n",
        "        x = torch.flatten(x, 1)\n",
        "        x = self.classifier(x)\n",
        "        return x\n",
        "\n",
        "from torch import optim\n",
        "# Device configuration - defaults to CPU unless GPU is available on device\n",
        "DEVICE = torch.device('cuda:0' if torch.cuda.is_available() else 'cpu')\n",
        "net = PolarNet().to(DEVICE)\n",
        "criterion = nn.CrossEntropyLoss()\n",
        "\n",
        "# Stochastic gradient descent - TODO: alter as needed\n",
        "optimizer = optim.SGD(\n",
        "\tnet.parameters(),\n",
        "\tlr= 0.001, #0.001,\n",
        "\tweight_decay= 0.0005, #0.0005,\n",
        "\tmomentum= 0.9, #0.9,\n",
        ")\n",
        "\n",
        "for param in net.parameters():\n",
        "    print(param.shape)\n",
        "  \n",
        "outputs = net(inputs)"
      ],
      "execution_count": 85,
      "outputs": [
        {
          "output_type": "stream",
          "text": [
            "torch.Size([16, 3, 3, 3])\n",
            "torch.Size([16])\n",
            "torch.Size([32, 16, 5, 5])\n",
            "torch.Size([32])\n",
            "torch.Size([64, 32, 5, 5])\n",
            "torch.Size([64])\n",
            "torch.Size([3, 1600])\n",
            "torch.Size([3])\n"
          ],
          "name": "stdout"
        }
      ]
    },
    {
      "cell_type": "code",
      "metadata": {
        "collapsed": true,
        "id": "K1fD76oG-j6B"
      },
      "source": [
        "(30x492032 and 4096x3)"
      ],
      "execution_count": null,
      "outputs": []
    },
    {
      "cell_type": "markdown",
      "metadata": {
        "id": "672EMF4J-j6C"
      },
      "source": [
        "### Training\n",
        "\n",
        "An example of loading the model, setting a loss criteria and defining an optimizer."
      ]
    },
    {
      "cell_type": "code",
      "metadata": {
        "collapsed": true,
        "id": "m929OqWl-j6C"
      },
      "source": [
        ""
      ],
      "execution_count": null,
      "outputs": []
    },
    {
      "cell_type": "code",
      "metadata": {
        "collapsed": true,
        "id": "qIb_PScA-j6C"
      },
      "source": [
        ""
      ],
      "execution_count": null,
      "outputs": []
    },
    {
      "cell_type": "markdown",
      "metadata": {
        "id": "6hD92eoT-j6D"
      },
      "source": [
        "Train the model, batch by batch, for as many iterations as required to converge. You can use the validation set to determine automatically when to stop training."
      ]
    },
    {
      "cell_type": "code",
      "metadata": {
        "collapsed": true,
        "id": "EnKf_P2F-j6D"
      },
      "source": [
        ""
      ],
      "execution_count": null,
      "outputs": []
    },
    {
      "cell_type": "code",
      "metadata": {
        "collapsed": true,
        "id": "NubrrNxS-j6D"
      },
      "source": [
        ""
      ],
      "execution_count": null,
      "outputs": []
    },
    {
      "cell_type": "markdown",
      "metadata": {
        "id": "dNTFZeQp-j6D"
      },
      "source": [
        "### Evaluation\n",
        "\n",
        "Evaluate patch-based accuracy on the test set; then using the test patch coordinates, piece together the segmentation prediction on the original TIF images."
      ]
    },
    {
      "cell_type": "code",
      "metadata": {
        "collapsed": true,
        "id": "ti-jbJN_-j6E"
      },
      "source": [
        "def stats(loader, net):\r\n",
        "    correct = 0\r\n",
        "    total = 0\r\n",
        "    running_loss = 0\r\n",
        "    n = 0\r\n",
        "    with torch.no_grad():\r\n",
        "        for data in loader:\r\n",
        "            images, labels, c = data\r\n",
        "            outputs = net(images)\r\n",
        "            loss = loss_fn(outputs, labels)\r\n",
        "            _, predicted = torch.max(outputs.data, 1)\r\n",
        "            total += labels.size(0)    # add in the number of labels in this minibatch\r\n",
        "            correct += (predicted == labels).sum().item()  # add in the number of correct labels\r\n",
        "            running_loss += loss\r\n",
        "            n += 1\r\n",
        "    return running_loss/n, correct/total \r\n",
        "\r\n",
        "def statsplot(statsrec):\r\n",
        "    fig, ax1 = plt.subplots()\r\n",
        "    plt.plot(statsrec[0], 'r', label = 'training loss', )\r\n",
        "    plt.plot(statsrec[1], 'g', label = 'test loss' )\r\n",
        "    plt.legend(loc='center')\r\n",
        "    plt.xlabel('epoch')\r\n",
        "    plt.ylabel('loss')\r\n",
        "    plt.title('Training and test loss, and test accuracy')\r\n",
        "    ax2=ax1.twinx()\r\n",
        "    ax2.plot(statsrec[2], 'b', label = 'test accuracy')\r\n",
        "    ax2.set_ylabel('accuracy')\r\n",
        "    plt.legend(loc='upper left')\r\n",
        "    plt.show()"
      ],
      "execution_count": 86,
      "outputs": []
    },
    {
      "cell_type": "markdown",
      "metadata": {
        "id": "sYB0AQdhjJjt"
      },
      "source": [
        "# Train the model for 10 epochs"
      ]
    },
    {
      "cell_type": "code",
      "metadata": {
        "collapsed": true,
        "id": "Nl9AAl2Y-j6E",
        "colab": {
          "base_uri": "https://localhost:8080/"
        },
        "outputId": "9a2dcef4-8cb5-42dd-9e71-7bee68a50702"
      },
      "source": [
        "nepochs = 10\r\n",
        "statsrec = np.zeros((3,nepochs))\r\n",
        "\r\n",
        "loss_fn = nn.CrossEntropyLoss()\r\n",
        "optimizer = optim.SGD(net.parameters(), lr=0.0001, momentum=0.9)\r\n",
        "\r\n",
        "SAMPLING_DIR = '/content/drive/My Drive/'\r\n",
        "\r\n",
        "for epoch in range(nepochs):  # loop over the dataset multiple times\r\n",
        "    running_loss = 0.0\r\n",
        "    n = 0\r\n",
        "    for i, dat in enumerate(train_loader, 0):\r\n",
        "        inputs, labels, c = dat\r\n",
        "        \r\n",
        "         # Zero the parameter gradients\r\n",
        "        optimizer.zero_grad()\r\n",
        "\r\n",
        "        # Forward, backward, and update parameters\r\n",
        "        outputs = net(inputs)\r\n",
        "        loss = loss_fn(outputs, labels)\r\n",
        "        loss.backward()\r\n",
        "        optimizer.step()\r\n",
        "    \r\n",
        "        # accumulate loss\r\n",
        "        running_loss += loss.item()\r\n",
        "        n += 1\r\n",
        "    \r\n",
        "    ltrn = running_loss/n\r\n",
        "    ltst, atst = stats(test_loader, net)\r\n",
        "    statsrec[:,epoch] = (ltrn, ltst, atst)\r\n",
        "    print(f\"epoch: {epoch} training loss: {ltrn: .3f}  test loss: {ltst: .3f} test accuracy: {atst: .1%}\")"
      ],
      "execution_count": null,
      "outputs": [
        {
          "output_type": "stream",
          "text": [
            "epoch: 0 training loss:  1.091  test loss:  1.092 test accuracy:  47.2%\n",
            "epoch: 1 training loss:  1.091  test loss:  1.091 test accuracy:  47.8%\n",
            "epoch: 2 training loss:  1.089  test loss:  1.091 test accuracy:  47.8%\n",
            "epoch: 3 training loss:  1.090  test loss:  1.090 test accuracy:  47.8%\n",
            "epoch: 4 training loss:  1.089  test loss:  1.090 test accuracy:  47.8%\n",
            "epoch: 5 training loss:  1.089  test loss:  1.089 test accuracy:  47.8%\n"
          ],
          "name": "stdout"
        }
      ]
    },
    {
      "cell_type": "code",
      "metadata": {
        "collapsed": true,
        "id": "ZKi9gWgN-j6E",
        "colab": {
          "base_uri": "https://localhost:8080/",
          "height": 295
        },
        "outputId": "31fe2713-ee72-4bab-83ba-09ed41102ad4"
      },
      "source": [
        "statsplot(statsrec)"
      ],
      "execution_count": 83,
      "outputs": [
        {
          "output_type": "display_data",
          "data": {
            "image/png": "[encoded data removed]",
            "text/plain": [
              "<Figure size 432x288 with 2 Axes>"
            ]
          },
          "metadata": {
            "tags": [],
            "needs_background": "light"
          }
        }
      ]
    },
    {
      "cell_type": "code",
      "metadata": {
        "id": "YNITtip7ksaX"
      },
      "source": [
        ""
      ],
      "execution_count": 36,
      "outputs": []
    },
    {
      "cell_type": "markdown",
      "metadata": {
        "id": "3DBcWIrSOsOp"
      },
      "source": [
        ""
      ]
    },
    {
      "cell_type": "markdown",
      "metadata": {
        "id": "D5LjPcKOOsQq"
      },
      "source": [
        "# Putting it all back together\r\n"
      ]
    },
    {
      "cell_type": "code",
      "metadata": {
        "id": "DQnIvg_hOvzn"
      },
      "source": [
        "xs = []\r\n",
        "ys = []\r\n",
        "imgnames = []\r\n",
        "classes = []\r\n"
      ],
      "execution_count": null,
      "outputs": []
    }
  ]
}